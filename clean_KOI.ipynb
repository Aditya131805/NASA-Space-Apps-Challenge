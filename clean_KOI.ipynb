{
 "cells": [
  {
   "cell_type": "code",
   "execution_count": 1,
   "id": "591ddae7",
   "metadata": {},
   "outputs": [
    {
     "name": "stdout",
     "output_type": "stream",
     "text": [
      "(9564, 49)\n",
      "<class 'pandas.core.frame.DataFrame'>\n",
      "RangeIndex: 9564 entries, 0 to 9563\n",
      "Data columns (total 49 columns):\n",
      " #   Column             Non-Null Count  Dtype  \n",
      "---  ------             --------------  -----  \n",
      " 0   kepid              9564 non-null   int64  \n",
      " 1   kepoi_name         9564 non-null   object \n",
      " 2   kepler_name        2747 non-null   object \n",
      " 3   koi_disposition    9564 non-null   object \n",
      " 4   koi_pdisposition   9564 non-null   object \n",
      " 5   koi_score          8054 non-null   float64\n",
      " 6   koi_fpflag_nt      9564 non-null   int64  \n",
      " 7   koi_fpflag_ss      9564 non-null   int64  \n",
      " 8   koi_fpflag_co      9564 non-null   int64  \n",
      " 9   koi_fpflag_ec      9564 non-null   int64  \n",
      " 10  koi_period         9564 non-null   float64\n",
      " 11  koi_period_err1    9110 non-null   float64\n",
      " 12  koi_period_err2    9110 non-null   float64\n",
      " 13  koi_time0bk        9564 non-null   float64\n",
      " 14  koi_time0bk_err1   9110 non-null   float64\n",
      " 15  koi_time0bk_err2   9110 non-null   float64\n",
      " 16  koi_impact         9201 non-null   float64\n",
      " 17  koi_impact_err1    9110 non-null   float64\n",
      " 18  koi_impact_err2    9110 non-null   float64\n",
      " 19  koi_duration       9564 non-null   float64\n",
      " 20  koi_duration_err1  9110 non-null   float64\n",
      " 21  koi_duration_err2  9110 non-null   float64\n",
      " 22  koi_depth          9201 non-null   float64\n",
      " 23  koi_depth_err1     9110 non-null   float64\n",
      " 24  koi_depth_err2     9110 non-null   float64\n",
      " 25  koi_prad           9201 non-null   float64\n",
      " 26  koi_prad_err1      9201 non-null   float64\n",
      " 27  koi_prad_err2      9201 non-null   float64\n",
      " 28  koi_teq            9201 non-null   float64\n",
      " 29  koi_teq_err1       0 non-null      float64\n",
      " 30  koi_teq_err2       0 non-null      float64\n",
      " 31  koi_insol          9243 non-null   float64\n",
      " 32  koi_insol_err1     9243 non-null   float64\n",
      " 33  koi_insol_err2     9243 non-null   float64\n",
      " 34  koi_model_snr      9201 non-null   float64\n",
      " 35  koi_tce_plnt_num   9218 non-null   float64\n",
      " 36  koi_tce_delivname  9218 non-null   object \n",
      " 37  koi_steff          9201 non-null   float64\n",
      " 38  koi_steff_err1     9096 non-null   float64\n",
      " 39  koi_steff_err2     9081 non-null   float64\n",
      " 40  koi_slogg          9201 non-null   float64\n",
      " 41  koi_slogg_err1     9096 non-null   float64\n",
      " 42  koi_slogg_err2     9096 non-null   float64\n",
      " 43  koi_srad           9201 non-null   float64\n",
      " 44  koi_srad_err1      9096 non-null   float64\n",
      " 45  koi_srad_err2      9096 non-null   float64\n",
      " 46  ra                 9564 non-null   float64\n",
      " 47  dec                9564 non-null   float64\n",
      " 48  koi_kepmag         9563 non-null   float64\n",
      "dtypes: float64(39), int64(5), object(5)\n",
      "memory usage: 3.6+ MB\n",
      "None\n"
     ]
    }
   ],
   "source": [
    "import numpy as np\n",
    "import pandas as pd\n",
    "import seaborn as sb\n",
    "\n",
    "kepler_object = pd.read_csv(\n",
    "    \"Kepler Objects of Interest.csv\",\n",
    "    sep=\",\",               \n",
    "    engine=\"python\",       \n",
    "    on_bad_lines=\"skip\",\n",
    "    comment=\"#\"   \n",
    ")\n",
    "print(kepler_object.shape)\n",
    "print(kepler_object.info())\n"
   ]
  },
  {
   "cell_type": "code",
   "execution_count": 2,
   "id": "c76ca1cb",
   "metadata": {},
   "outputs": [
    {
     "name": "stdout",
     "output_type": "stream",
     "text": [
      "kepid                   0\n",
      "kepoi_name              0\n",
      "kepler_name          6817\n",
      "koi_disposition         0\n",
      "koi_pdisposition        0\n",
      "koi_score            1510\n",
      "koi_fpflag_nt           0\n",
      "koi_fpflag_ss           0\n",
      "koi_fpflag_co           0\n",
      "koi_fpflag_ec           0\n",
      "koi_period              0\n",
      "koi_period_err1       454\n",
      "koi_period_err2       454\n",
      "koi_time0bk             0\n",
      "koi_time0bk_err1      454\n",
      "koi_time0bk_err2      454\n",
      "koi_impact            363\n",
      "koi_impact_err1       454\n",
      "koi_impact_err2       454\n",
      "koi_duration            0\n",
      "koi_duration_err1     454\n",
      "koi_duration_err2     454\n",
      "koi_depth             363\n",
      "koi_depth_err1        454\n",
      "koi_depth_err2        454\n",
      "koi_prad              363\n",
      "koi_prad_err1         363\n",
      "koi_prad_err2         363\n",
      "koi_teq               363\n",
      "koi_teq_err1         9564\n",
      "koi_teq_err2         9564\n",
      "koi_insol             321\n",
      "koi_insol_err1        321\n",
      "koi_insol_err2        321\n",
      "koi_model_snr         363\n",
      "koi_tce_plnt_num      346\n",
      "koi_tce_delivname     346\n",
      "koi_steff             363\n",
      "koi_steff_err1        468\n",
      "koi_steff_err2        483\n",
      "koi_slogg             363\n",
      "koi_slogg_err1        468\n",
      "koi_slogg_err2        468\n",
      "koi_srad              363\n",
      "koi_srad_err1         468\n",
      "koi_srad_err2         468\n",
      "ra                      0\n",
      "dec                     0\n",
      "koi_kepmag              1\n",
      "dtype: int64\n"
     ]
    }
   ],
   "source": [
    "print(kepler_object.isnull().sum())"
   ]
  },
  {
   "cell_type": "code",
   "execution_count": 3,
   "id": "b2cfb588",
   "metadata": {},
   "outputs": [],
   "source": [
    "drop_columns = [\"kepler_name\",\"koi_teq_err1\",\"koi_teq_err2\"]\n",
    "kepler_object = kepler_object.drop(drop_columns,axis=1)"
   ]
  },
  {
   "cell_type": "code",
   "execution_count": 4,
   "id": "9332cb97",
   "metadata": {},
   "outputs": [
    {
     "name": "stdout",
     "output_type": "stream",
     "text": [
      "kepid                   0\n",
      "kepoi_name              0\n",
      "koi_disposition         0\n",
      "koi_pdisposition        0\n",
      "koi_score            1510\n",
      "koi_fpflag_nt           0\n",
      "koi_fpflag_ss           0\n",
      "koi_fpflag_co           0\n",
      "koi_fpflag_ec           0\n",
      "koi_period              0\n",
      "koi_period_err1       454\n",
      "koi_period_err2       454\n",
      "koi_time0bk             0\n",
      "koi_time0bk_err1      454\n",
      "koi_time0bk_err2      454\n",
      "koi_impact            363\n",
      "koi_impact_err1       454\n",
      "koi_impact_err2       454\n",
      "koi_duration            0\n",
      "koi_duration_err1     454\n",
      "koi_duration_err2     454\n",
      "koi_depth             363\n",
      "koi_depth_err1        454\n",
      "koi_depth_err2        454\n",
      "koi_prad              363\n",
      "koi_prad_err1         363\n",
      "koi_prad_err2         363\n",
      "koi_teq               363\n",
      "koi_insol             321\n",
      "koi_insol_err1        321\n",
      "koi_insol_err2        321\n",
      "koi_model_snr         363\n",
      "koi_tce_plnt_num      346\n",
      "koi_tce_delivname     346\n",
      "koi_steff             363\n",
      "koi_steff_err1        468\n",
      "koi_steff_err2        483\n",
      "koi_slogg             363\n",
      "koi_slogg_err1        468\n",
      "koi_slogg_err2        468\n",
      "koi_srad              363\n",
      "koi_srad_err1         468\n",
      "koi_srad_err2         468\n",
      "ra                      0\n",
      "dec                     0\n",
      "koi_kepmag              1\n",
      "dtype: int64\n"
     ]
    }
   ],
   "source": [
    "print(kepler_object.isnull().sum())"
   ]
  },
  {
   "cell_type": "code",
   "execution_count": 5,
   "id": "4e6fd19d",
   "metadata": {},
   "outputs": [
    {
     "name": "stdout",
     "output_type": "stream",
     "text": [
      "kepid                  int64\n",
      "kepoi_name            object\n",
      "koi_disposition       object\n",
      "koi_pdisposition      object\n",
      "koi_score            float64\n",
      "koi_fpflag_nt          int64\n",
      "koi_fpflag_ss          int64\n",
      "koi_fpflag_co          int64\n",
      "koi_fpflag_ec          int64\n",
      "koi_period           float64\n",
      "koi_period_err1      float64\n",
      "koi_period_err2      float64\n",
      "koi_time0bk          float64\n",
      "koi_time0bk_err1     float64\n",
      "koi_time0bk_err2     float64\n",
      "koi_impact           float64\n",
      "koi_impact_err1      float64\n",
      "koi_impact_err2      float64\n",
      "koi_duration         float64\n",
      "koi_duration_err1    float64\n",
      "koi_duration_err2    float64\n",
      "koi_depth            float64\n",
      "koi_depth_err1       float64\n",
      "koi_depth_err2       float64\n",
      "koi_prad             float64\n",
      "koi_prad_err1        float64\n",
      "koi_prad_err2        float64\n",
      "koi_teq              float64\n",
      "koi_insol            float64\n",
      "koi_insol_err1       float64\n",
      "koi_insol_err2       float64\n",
      "koi_model_snr        float64\n",
      "koi_tce_plnt_num     float64\n",
      "koi_tce_delivname     object\n",
      "koi_steff            float64\n",
      "koi_steff_err1       float64\n",
      "koi_steff_err2       float64\n",
      "koi_slogg            float64\n",
      "koi_slogg_err1       float64\n",
      "koi_slogg_err2       float64\n",
      "koi_srad             float64\n",
      "koi_srad_err1        float64\n",
      "koi_srad_err2        float64\n",
      "ra                   float64\n",
      "dec                  float64\n",
      "koi_kepmag           float64\n",
      "dtype: object\n"
     ]
    }
   ],
   "source": [
    "print(kepler_object.dtypes)"
   ]
  },
  {
   "cell_type": "code",
   "execution_count": 6,
   "id": "785f7512",
   "metadata": {},
   "outputs": [
    {
     "name": "stdout",
     "output_type": "stream",
     "text": [
      "kepid                   0\n",
      "kepoi_name              0\n",
      "koi_disposition         0\n",
      "koi_pdisposition        0\n",
      "koi_score            1510\n",
      "koi_fpflag_nt           0\n",
      "koi_fpflag_ss           0\n",
      "koi_fpflag_co           0\n",
      "koi_fpflag_ec           0\n",
      "koi_period              0\n",
      "koi_period_err1       454\n",
      "koi_period_err2       454\n",
      "koi_time0bk             0\n",
      "koi_time0bk_err1      454\n",
      "koi_time0bk_err2      454\n",
      "koi_impact            363\n",
      "koi_impact_err1       454\n",
      "koi_impact_err2       454\n",
      "koi_duration            0\n",
      "koi_duration_err1     454\n",
      "koi_duration_err2     454\n",
      "koi_depth             363\n",
      "koi_depth_err1        454\n",
      "koi_depth_err2        454\n",
      "koi_prad              363\n",
      "koi_prad_err1         363\n",
      "koi_prad_err2         363\n",
      "koi_teq               363\n",
      "koi_insol             321\n",
      "koi_insol_err1        321\n",
      "koi_insol_err2        321\n",
      "koi_model_snr         363\n",
      "koi_tce_plnt_num      346\n",
      "koi_tce_delivname     346\n",
      "koi_steff             363\n",
      "koi_steff_err1        467\n",
      "koi_steff_err2        482\n",
      "koi_slogg             363\n",
      "koi_slogg_err1        467\n",
      "koi_slogg_err2        467\n",
      "koi_srad              363\n",
      "koi_srad_err1         467\n",
      "koi_srad_err2         467\n",
      "ra                      0\n",
      "dec                     0\n",
      "koi_kepmag              0\n",
      "dtype: int64\n"
     ]
    }
   ],
   "source": [
    "kepler_object.dropna(subset=[\"koi_kepmag\"],inplace=True)\n",
    "print(kepler_object.isnull().sum())"
   ]
  },
  {
   "cell_type": "code",
   "execution_count": 7,
   "id": "be1fd793",
   "metadata": {},
   "outputs": [
    {
     "name": "stdout",
     "output_type": "stream",
     "text": [
      "kepid                   0\n",
      "kepoi_name              0\n",
      "koi_disposition         0\n",
      "koi_pdisposition        0\n",
      "koi_score            1510\n",
      "koi_fpflag_nt           0\n",
      "koi_fpflag_ss           0\n",
      "koi_fpflag_co           0\n",
      "koi_fpflag_ec           0\n",
      "koi_period              0\n",
      "koi_period_err1       454\n",
      "koi_period_err2       454\n",
      "koi_time0bk             0\n",
      "koi_time0bk_err1      454\n",
      "koi_time0bk_err2      454\n",
      "koi_impact            363\n",
      "koi_impact_err1       454\n",
      "koi_impact_err2       454\n",
      "koi_duration            0\n",
      "koi_duration_err1     454\n",
      "koi_duration_err2     454\n",
      "koi_depth               0\n",
      "koi_depth_err1        454\n",
      "koi_depth_err2        454\n",
      "koi_prad                0\n",
      "koi_prad_err1         363\n",
      "koi_prad_err2         363\n",
      "koi_teq               363\n",
      "koi_insol             321\n",
      "koi_insol_err1        321\n",
      "koi_insol_err2        321\n",
      "koi_model_snr         363\n",
      "koi_tce_plnt_num      346\n",
      "koi_tce_delivname     346\n",
      "koi_steff             363\n",
      "koi_steff_err1        467\n",
      "koi_steff_err2        482\n",
      "koi_slogg             363\n",
      "koi_slogg_err1        467\n",
      "koi_slogg_err2        467\n",
      "koi_srad              363\n",
      "koi_srad_err1         467\n",
      "koi_srad_err2         467\n",
      "ra                      0\n",
      "dec                     0\n",
      "koi_kepmag              0\n",
      "dtype: int64\n"
     ]
    },
    {
     "name": "stderr",
     "output_type": "stream",
     "text": [
      "C:\\Users\\lenovo\\AppData\\Local\\Temp\\ipykernel_12524\\2088984260.py:3: FutureWarning: A value is trying to be set on a copy of a DataFrame or Series through chained assignment using an inplace method.\n",
      "The behavior will change in pandas 3.0. This inplace method will never work because the intermediate object on which we are setting values always behaves as a copy.\n",
      "\n",
      "For example, when doing 'df[col].method(value, inplace=True)', try using 'df.method({col: value}, inplace=True)' or df[col] = df[col].method(value) instead, to perform the operation inplace on the original object.\n",
      "\n",
      "\n",
      "  kepler_object[col].fillna(kepler_object[col].median(),inplace=True)\n",
      "C:\\Users\\lenovo\\AppData\\Local\\Temp\\ipykernel_12524\\2088984260.py:3: FutureWarning: A value is trying to be set on a copy of a DataFrame or Series through chained assignment using an inplace method.\n",
      "The behavior will change in pandas 3.0. This inplace method will never work because the intermediate object on which we are setting values always behaves as a copy.\n",
      "\n",
      "For example, when doing 'df[col].method(value, inplace=True)', try using 'df.method({col: value}, inplace=True)' or df[col] = df[col].method(value) instead, to perform the operation inplace on the original object.\n",
      "\n",
      "\n",
      "  kepler_object[col].fillna(kepler_object[col].median(),inplace=True)\n",
      "C:\\Users\\lenovo\\AppData\\Local\\Temp\\ipykernel_12524\\2088984260.py:3: FutureWarning: A value is trying to be set on a copy of a DataFrame or Series through chained assignment using an inplace method.\n",
      "The behavior will change in pandas 3.0. This inplace method will never work because the intermediate object on which we are setting values always behaves as a copy.\n",
      "\n",
      "For example, when doing 'df[col].method(value, inplace=True)', try using 'df.method({col: value}, inplace=True)' or df[col] = df[col].method(value) instead, to perform the operation inplace on the original object.\n",
      "\n",
      "\n",
      "  kepler_object[col].fillna(kepler_object[col].median(),inplace=True)\n"
     ]
    }
   ],
   "source": [
    "median_cols = [\"koi_period\", \"koi_prad\", \"koi_depth\"]\n",
    "for col in median_cols:\n",
    "    kepler_object[col].fillna(kepler_object[col].median(),inplace=True)\n",
    "\n",
    "print(kepler_object.isnull().sum())"
   ]
  },
  {
   "cell_type": "code",
   "execution_count": 8,
   "id": "9d449314",
   "metadata": {},
   "outputs": [
    {
     "name": "stdout",
     "output_type": "stream",
     "text": [
      "Index(['kepid', 'kepoi_name', 'koi_disposition', 'koi_pdisposition',\n",
      "       'koi_score', 'koi_fpflag_nt', 'koi_fpflag_ss', 'koi_fpflag_co',\n",
      "       'koi_fpflag_ec', 'koi_period', 'koi_time0bk', 'koi_impact',\n",
      "       'koi_duration', 'koi_depth', 'koi_prad', 'koi_teq', 'koi_insol',\n",
      "       'koi_model_snr', 'koi_tce_plnt_num', 'koi_tce_delivname', 'koi_steff',\n",
      "       'koi_slogg', 'koi_srad', 'ra', 'dec', 'koi_kepmag'],\n",
      "      dtype='object')\n"
     ]
    }
   ],
   "source": [
    "cols_to_drop = [\n",
    "    \"koi_period_err1\", \"koi_period_err2\", \"koi_time0bk_err1\", \"koi_time0bk_err2\",\n",
    "    \"koi_impact_err1\", \"koi_impact_err2\", \"koi_duration_err1\", \"koi_duration_err2\",\n",
    "    \"koi_depth_err1\", \"koi_depth_err2\", \"koi_prad_err1\", \"koi_prad_err2\",\n",
    "    \"koi_insol_err1\", \"koi_insol_err2\", \"koi_steff_err1\", \"koi_steff_err2\",\n",
    "    \"koi_slogg_err1\", \"koi_slogg_err2\", \"koi_srad_err1\", \"koi_srad_err2\"\n",
    "]\n",
    "\n",
    "kepler_object.drop(columns=[c for c in cols_to_drop if c in kepler_object.columns], inplace=True)\n",
    "print(kepler_object.columns)\n"
   ]
  },
  {
   "cell_type": "code",
   "execution_count": 9,
   "id": "590a96c5",
   "metadata": {},
   "outputs": [
    {
     "name": "stdout",
     "output_type": "stream",
     "text": [
      "kepid                   0\n",
      "kepoi_name              0\n",
      "koi_disposition         0\n",
      "koi_pdisposition        0\n",
      "koi_score            1510\n",
      "koi_fpflag_nt           0\n",
      "koi_fpflag_ss           0\n",
      "koi_fpflag_co           0\n",
      "koi_fpflag_ec           0\n",
      "koi_period              0\n",
      "koi_time0bk             0\n",
      "koi_impact            363\n",
      "koi_duration            0\n",
      "koi_depth               0\n",
      "koi_prad                0\n",
      "koi_teq               363\n",
      "koi_insol             321\n",
      "koi_model_snr         363\n",
      "koi_tce_plnt_num      346\n",
      "koi_tce_delivname     346\n",
      "koi_steff             363\n",
      "koi_slogg             363\n",
      "koi_srad              363\n",
      "ra                      0\n",
      "dec                     0\n",
      "koi_kepmag              0\n",
      "dtype: int64\n"
     ]
    }
   ],
   "source": [
    "print(kepler_object.isnull().sum())"
   ]
  },
  {
   "cell_type": "code",
   "execution_count": 10,
   "id": "80616f01",
   "metadata": {},
   "outputs": [
    {
     "data": {
      "text/plain": [
       "<bound method NDFrame.describe of 0       1.000\n",
       "1       0.969\n",
       "2       0.000\n",
       "3       0.000\n",
       "4       1.000\n",
       "        ...  \n",
       "9559    0.000\n",
       "9560    0.497\n",
       "9561    0.021\n",
       "9562    0.092\n",
       "9563    0.000\n",
       "Name: koi_score, Length: 9563, dtype: float64>"
      ]
     },
     "execution_count": 10,
     "metadata": {},
     "output_type": "execute_result"
    }
   ],
   "source": [
    "kepler_object[\"koi_score\"].describe"
   ]
  },
  {
   "cell_type": "code",
   "execution_count": 11,
   "id": "53705aee",
   "metadata": {},
   "outputs": [
    {
     "data": {
      "text/plain": [
       "<Axes: xlabel='koi_score', ylabel='Count'>"
      ]
     },
     "execution_count": 11,
     "metadata": {},
     "output_type": "execute_result"
    },
    {
     "data": {
      "image/png": "[encoded data removed]",
      "text/plain": [
       "<Figure size 640x480 with 1 Axes>"
      ]
     },
     "metadata": {},
     "output_type": "display_data"
    }
   ],
   "source": [
    "sb.histplot(x=\"koi_score\",data=kepler_object)"
   ]
  },
  {
   "cell_type": "code",
   "execution_count": 12,
   "id": "8d9a2fe9",
   "metadata": {},
   "outputs": [
    {
     "data": {
      "text/plain": [
       "koi_score\n",
       "0.000    3481\n",
       "1.000    1777\n",
       "0.999     229\n",
       "0.998     143\n",
       "0.997     101\n",
       "         ... \n",
       "0.295       1\n",
       "0.340       1\n",
       "0.121       1\n",
       "0.203       1\n",
       "0.204       1\n",
       "Name: count, Length: 650, dtype: int64"
      ]
     },
     "execution_count": 12,
     "metadata": {},
     "output_type": "execute_result"
    }
   ],
   "source": [
    "kepler_object['koi_score'].value_counts()\n"
   ]
  },
  {
   "cell_type": "code",
   "execution_count": 13,
   "id": "695a6ec2",
   "metadata": {},
   "outputs": [
    {
     "name": "stdout",
     "output_type": "stream",
     "text": [
      "kepid                  0\n",
      "kepoi_name             0\n",
      "koi_disposition        0\n",
      "koi_pdisposition       0\n",
      "koi_score              0\n",
      "koi_fpflag_nt          0\n",
      "koi_fpflag_ss          0\n",
      "koi_fpflag_co          0\n",
      "koi_fpflag_ec          0\n",
      "koi_period             0\n",
      "koi_time0bk            0\n",
      "koi_impact           363\n",
      "koi_duration           0\n",
      "koi_depth              0\n",
      "koi_prad               0\n",
      "koi_teq              363\n",
      "koi_insol            321\n",
      "koi_model_snr        363\n",
      "koi_tce_plnt_num     346\n",
      "koi_tce_delivname    346\n",
      "koi_steff            363\n",
      "koi_slogg            363\n",
      "koi_srad             363\n",
      "ra                     0\n",
      "dec                    0\n",
      "koi_kepmag             0\n",
      "dtype: int64\n"
     ]
    }
   ],
   "source": [
    "kepler_object[\"koi_score\"].fillna(kepler_object[\"koi_score\"].median(), inplace=True)\n",
    "print(kepler_object.isnull().sum())"
   ]
  },
  {
   "cell_type": "code",
   "execution_count": 14,
   "id": "6ff17f94",
   "metadata": {},
   "outputs": [
    {
     "data": {
      "text/plain": [
       "<Axes: xlabel='koi_impact', ylabel='Count'>"
      ]
     },
     "execution_count": 14,
     "metadata": {},
     "output_type": "execute_result"
    },
    {
     "data": {
      "image/png": "[encoded data removed]",
      "text/plain": [
       "<Figure size 640x480 with 1 Axes>"
      ]
     },
     "metadata": {},
     "output_type": "display_data"
    }
   ],
   "source": [
    "sb.histplot(x='koi_impact',data=kepler_object,bins=10)"
   ]
  },
  {
   "cell_type": "code",
   "execution_count": 15,
   "id": "4c4cb0d2",
   "metadata": {},
   "outputs": [
    {
     "data": {
      "text/plain": [
       "<Axes: xlabel='koi_teq', ylabel='Count'>"
      ]
     },
     "execution_count": 15,
     "metadata": {},
     "output_type": "execute_result"
    },
    {
     "data": {
      "image/png": "[encoded data removed]",
      "text/plain": [
       "<Figure size 640x480 with 1 Axes>"
      ]
     },
     "metadata": {},
     "output_type": "display_data"
    }
   ],
   "source": [
    "sb.histplot(x='koi_teq',data=kepler_object)"
   ]
  },
  {
   "cell_type": "code",
   "execution_count": 16,
   "id": "93d91410",
   "metadata": {},
   "outputs": [
    {
     "data": {
      "text/plain": [
       "<Axes: xlabel='koi_insol', ylabel='Count'>"
      ]
     },
     "execution_count": 16,
     "metadata": {},
     "output_type": "execute_result"
    },
    {
     "data": {
      "image/png": "[encoded data removed]",
      "text/plain": [
       "<Figure size 640x480 with 1 Axes>"
      ]
     },
     "metadata": {},
     "output_type": "display_data"
    }
   ],
   "source": [
    "sb.histplot(x='koi_insol',data=kepler_object,bins=10)"
   ]
  },
  {
   "cell_type": "code",
   "execution_count": 17,
   "id": "0d480296",
   "metadata": {},
   "outputs": [
    {
     "data": {
      "text/plain": [
       "<Axes: xlabel='koi_model_snr', ylabel='Count'>"
      ]
     },
     "execution_count": 17,
     "metadata": {},
     "output_type": "execute_result"
    },
    {
     "data": {
      "image/png": "[encoded data removed]",
      "text/plain": [
       "<Figure size 640x480 with 1 Axes>"
      ]
     },
     "metadata": {},
     "output_type": "display_data"
    }
   ],
   "source": [
    "sb.histplot(x='koi_model_snr',data=kepler_object,bins=10)"
   ]
  },
  {
   "cell_type": "code",
   "execution_count": 18,
   "id": "47b911ad",
   "metadata": {},
   "outputs": [
    {
     "data": {
      "text/plain": [
       "<Axes: xlabel='koi_steff', ylabel='Count'>"
      ]
     },
     "execution_count": 18,
     "metadata": {},
     "output_type": "execute_result"
    },
    {
     "data": {
      "image/png": "[encoded data removed]",
      "text/plain": [
       "<Figure size 640x480 with 1 Axes>"
      ]
     },
     "metadata": {},
     "output_type": "display_data"
    }
   ],
   "source": [
    "sb.histplot(x='koi_steff',data=kepler_object,bins=10)"
   ]
  },
  {
   "cell_type": "code",
   "execution_count": 19,
   "id": "5844ce1a",
   "metadata": {},
   "outputs": [
    {
     "data": {
      "text/plain": [
       "<Axes: xlabel='koi_slogg', ylabel='Count'>"
      ]
     },
     "execution_count": 19,
     "metadata": {},
     "output_type": "execute_result"
    },
    {
     "data": {
      "image/png": "[encoded data removed]",
      "text/plain": [
       "<Figure size 640x480 with 1 Axes>"
      ]
     },
     "metadata": {},
     "output_type": "display_data"
    }
   ],
   "source": [
    "sb.histplot(x='koi_slogg',data=kepler_object,bins=10)"
   ]
  },
  {
   "cell_type": "code",
   "execution_count": 20,
   "id": "98051688",
   "metadata": {},
   "outputs": [
    {
     "data": {
      "text/plain": [
       "<Axes: xlabel='koi_srad', ylabel='Count'>"
      ]
     },
     "execution_count": 20,
     "metadata": {},
     "output_type": "execute_result"
    },
    {
     "data": {
      "image/png": "[encoded data removed]",
      "text/plain": [
       "<Figure size 640x480 with 1 Axes>"
      ]
     },
     "metadata": {},
     "output_type": "display_data"
    }
   ],
   "source": [
    "sb.histplot(x='koi_srad',data=kepler_object,bins=10)\n"
   ]
  },
  {
   "cell_type": "code",
   "execution_count": 21,
   "id": "eaf17595",
   "metadata": {},
   "outputs": [
    {
     "data": {
      "text/plain": [
       "<Axes: xlabel='koi_tce_plnt_num', ylabel='Count'>"
      ]
     },
     "execution_count": 21,
     "metadata": {},
     "output_type": "execute_result"
    },
    {
     "data": {
      "image/png": "[encoded data removed]",
      "text/plain": [
       "<Figure size 640x480 with 1 Axes>"
      ]
     },
     "metadata": {},
     "output_type": "display_data"
    }
   ],
   "source": [
    "sb.histplot(x='koi_tce_plnt_num',data=kepler_object,bins=10)"
   ]
  },
  {
   "cell_type": "code",
   "execution_count": 22,
   "id": "cf226ad5",
   "metadata": {},
   "outputs": [
    {
     "name": "stdout",
     "output_type": "stream",
     "text": [
      "kepid                  0\n",
      "kepoi_name             0\n",
      "koi_disposition        0\n",
      "koi_pdisposition       0\n",
      "koi_score              0\n",
      "koi_fpflag_nt          0\n",
      "koi_fpflag_ss          0\n",
      "koi_fpflag_co          0\n",
      "koi_fpflag_ec          0\n",
      "koi_period             0\n",
      "koi_time0bk            0\n",
      "koi_impact             0\n",
      "koi_duration           0\n",
      "koi_depth              0\n",
      "koi_prad               0\n",
      "koi_teq                0\n",
      "koi_insol              0\n",
      "koi_model_snr          0\n",
      "koi_tce_plnt_num       0\n",
      "koi_tce_delivname    346\n",
      "koi_steff              0\n",
      "koi_slogg              0\n",
      "koi_srad               0\n",
      "ra                     0\n",
      "dec                    0\n",
      "koi_kepmag             0\n",
      "dtype: int64\n"
     ]
    },
    {
     "name": "stderr",
     "output_type": "stream",
     "text": [
      "C:\\Users\\lenovo\\AppData\\Local\\Temp\\ipykernel_12524\\3140201696.py:3: FutureWarning: A value is trying to be set on a copy of a DataFrame or Series through chained assignment using an inplace method.\n",
      "The behavior will change in pandas 3.0. This inplace method will never work because the intermediate object on which we are setting values always behaves as a copy.\n",
      "\n",
      "For example, when doing 'df[col].method(value, inplace=True)', try using 'df.method({col: value}, inplace=True)' or df[col] = df[col].method(value) instead, to perform the operation inplace on the original object.\n",
      "\n",
      "\n",
      "  kepler_object[col].fillna(kepler_object[col].median(),inplace=True)\n",
      "C:\\Users\\lenovo\\AppData\\Local\\Temp\\ipykernel_12524\\3140201696.py:3: FutureWarning: A value is trying to be set on a copy of a DataFrame or Series through chained assignment using an inplace method.\n",
      "The behavior will change in pandas 3.0. This inplace method will never work because the intermediate object on which we are setting values always behaves as a copy.\n",
      "\n",
      "For example, when doing 'df[col].method(value, inplace=True)', try using 'df.method({col: value}, inplace=True)' or df[col] = df[col].method(value) instead, to perform the operation inplace on the original object.\n",
      "\n",
      "\n",
      "  kepler_object[col].fillna(kepler_object[col].median(),inplace=True)\n",
      "C:\\Users\\lenovo\\AppData\\Local\\Temp\\ipykernel_12524\\3140201696.py:3: FutureWarning: A value is trying to be set on a copy of a DataFrame or Series through chained assignment using an inplace method.\n",
      "The behavior will change in pandas 3.0. This inplace method will never work because the intermediate object on which we are setting values always behaves as a copy.\n",
      "\n",
      "For example, when doing 'df[col].method(value, inplace=True)', try using 'df.method({col: value}, inplace=True)' or df[col] = df[col].method(value) instead, to perform the operation inplace on the original object.\n",
      "\n",
      "\n",
      "  kepler_object[col].fillna(kepler_object[col].median(),inplace=True)\n",
      "C:\\Users\\lenovo\\AppData\\Local\\Temp\\ipykernel_12524\\3140201696.py:3: FutureWarning: A value is trying to be set on a copy of a DataFrame or Series through chained assignment using an inplace method.\n",
      "The behavior will change in pandas 3.0. This inplace method will never work because the intermediate object on which we are setting values always behaves as a copy.\n",
      "\n",
      "For example, when doing 'df[col].method(value, inplace=True)', try using 'df.method({col: value}, inplace=True)' or df[col] = df[col].method(value) instead, to perform the operation inplace on the original object.\n",
      "\n",
      "\n",
      "  kepler_object[col].fillna(kepler_object[col].median(),inplace=True)\n",
      "C:\\Users\\lenovo\\AppData\\Local\\Temp\\ipykernel_12524\\3140201696.py:3: FutureWarning: A value is trying to be set on a copy of a DataFrame or Series through chained assignment using an inplace method.\n",
      "The behavior will change in pandas 3.0. This inplace method will never work because the intermediate object on which we are setting values always behaves as a copy.\n",
      "\n",
      "For example, when doing 'df[col].method(value, inplace=True)', try using 'df.method({col: value}, inplace=True)' or df[col] = df[col].method(value) instead, to perform the operation inplace on the original object.\n",
      "\n",
      "\n",
      "  kepler_object[col].fillna(kepler_object[col].median(),inplace=True)\n",
      "C:\\Users\\lenovo\\AppData\\Local\\Temp\\ipykernel_12524\\3140201696.py:3: FutureWarning: A value is trying to be set on a copy of a DataFrame or Series through chained assignment using an inplace method.\n",
      "The behavior will change in pandas 3.0. This inplace method will never work because the intermediate object on which we are setting values always behaves as a copy.\n",
      "\n",
      "For example, when doing 'df[col].method(value, inplace=True)', try using 'df.method({col: value}, inplace=True)' or df[col] = df[col].method(value) instead, to perform the operation inplace on the original object.\n",
      "\n",
      "\n",
      "  kepler_object[col].fillna(kepler_object[col].median(),inplace=True)\n",
      "C:\\Users\\lenovo\\AppData\\Local\\Temp\\ipykernel_12524\\3140201696.py:3: FutureWarning: A value is trying to be set on a copy of a DataFrame or Series through chained assignment using an inplace method.\n",
      "The behavior will change in pandas 3.0. This inplace method will never work because the intermediate object on which we are setting values always behaves as a copy.\n",
      "\n",
      "For example, when doing 'df[col].method(value, inplace=True)', try using 'df.method({col: value}, inplace=True)' or df[col] = df[col].method(value) instead, to perform the operation inplace on the original object.\n",
      "\n",
      "\n",
      "  kepler_object[col].fillna(kepler_object[col].median(),inplace=True)\n",
      "C:\\Users\\lenovo\\AppData\\Local\\Temp\\ipykernel_12524\\3140201696.py:3: FutureWarning: A value is trying to be set on a copy of a DataFrame or Series through chained assignment using an inplace method.\n",
      "The behavior will change in pandas 3.0. This inplace method will never work because the intermediate object on which we are setting values always behaves as a copy.\n",
      "\n",
      "For example, when doing 'df[col].method(value, inplace=True)', try using 'df.method({col: value}, inplace=True)' or df[col] = df[col].method(value) instead, to perform the operation inplace on the original object.\n",
      "\n",
      "\n",
      "  kepler_object[col].fillna(kepler_object[col].median(),inplace=True)\n"
     ]
    }
   ],
   "source": [
    "fill_median = ['koi_impact','koi_teq','koi_insol','koi_model_snr','koi_steff','koi_slogg','koi_srad','koi_tce_plnt_num']\n",
    "for col in fill_median:\n",
    "    kepler_object[col].fillna(kepler_object[col].median(),inplace=True)\n",
    "print(kepler_object.isnull().sum())"
   ]
  },
  {
   "cell_type": "code",
   "execution_count": 23,
   "id": "036fedc9",
   "metadata": {},
   "outputs": [
    {
     "name": "stdout",
     "output_type": "stream",
     "text": [
      "kepid                0\n",
      "kepoi_name           0\n",
      "koi_disposition      0\n",
      "koi_pdisposition     0\n",
      "koi_score            0\n",
      "koi_fpflag_nt        0\n",
      "koi_fpflag_ss        0\n",
      "koi_fpflag_co        0\n",
      "koi_fpflag_ec        0\n",
      "koi_period           0\n",
      "koi_time0bk          0\n",
      "koi_impact           0\n",
      "koi_duration         0\n",
      "koi_depth            0\n",
      "koi_prad             0\n",
      "koi_teq              0\n",
      "koi_insol            0\n",
      "koi_model_snr        0\n",
      "koi_tce_plnt_num     0\n",
      "koi_tce_delivname    0\n",
      "koi_steff            0\n",
      "koi_slogg            0\n",
      "koi_srad             0\n",
      "ra                   0\n",
      "dec                  0\n",
      "koi_kepmag           0\n",
      "dtype: int64\n"
     ]
    },
    {
     "name": "stderr",
     "output_type": "stream",
     "text": [
      "C:\\Users\\lenovo\\AppData\\Local\\Temp\\ipykernel_12524\\1730730364.py:1: FutureWarning: A value is trying to be set on a copy of a DataFrame or Series through chained assignment using an inplace method.\n",
      "The behavior will change in pandas 3.0. This inplace method will never work because the intermediate object on which we are setting values always behaves as a copy.\n",
      "\n",
      "For example, when doing 'df[col].method(value, inplace=True)', try using 'df.method({col: value}, inplace=True)' or df[col] = df[col].method(value) instead, to perform the operation inplace on the original object.\n",
      "\n",
      "\n",
      "  kepler_object[\"koi_tce_delivname\"].fillna(kepler_object[\"koi_tce_delivname\"].mode()[0],inplace=True)\n"
     ]
    }
   ],
   "source": [
    "kepler_object[\"koi_tce_delivname\"].fillna(kepler_object[\"koi_tce_delivname\"].mode()[0],inplace=True)\n",
    "print(kepler_object.isnull().sum())"
   ]
  },
  {
   "cell_type": "code",
   "execution_count": 24,
   "id": "568416c5",
   "metadata": {},
   "outputs": [
    {
     "name": "stdout",
     "output_type": "stream",
     "text": [
      "   koi_srad  koi_slogg  stellar_mass\n",
      "0     0.927      4.467      0.918296\n",
      "1     0.927      4.467      0.918296\n",
      "2     0.868      4.544      0.961308\n",
      "3     0.791      4.564      0.835942\n",
      "4     1.046      4.438      1.093670\n"
     ]
    }
   ],
   "source": [
    "import numpy as np\n",
    "\n",
    "G = 6.674e-8  \n",
    "R_sun_cm = 6.957e10\n",
    "M_sun_g = 1.989e33\n",
    "\n",
    "g_cgs = 10 ** kepler_object['koi_slogg']  \n",
    "\n",
    "R_star_cm = kepler_object['koi_srad'] * R_sun_cm\n",
    "M_star_g = g_cgs * (R_star_cm ** 2) / G\n",
    "\n",
    "kepler_object['stellar_mass'] = M_star_g / M_sun_g\n",
    "\n",
    "print(kepler_object[['koi_srad', 'koi_slogg', 'stellar_mass']].head())\n"
   ]
  },
  {
   "cell_type": "code",
   "execution_count": 25,
   "id": "cebe4bd9",
   "metadata": {},
   "outputs": [
    {
     "name": "stdout",
     "output_type": "stream",
     "text": [
      "   koi_srad  koi_steff  koi_kepmag     distance\n",
      "0     0.927     5455.0      15.347  1050.548442\n",
      "1     0.927     5455.0      15.347  1050.548442\n",
      "2     0.868     5853.0      15.436  1179.841349\n",
      "3     0.791     5805.0      15.597  1139.010613\n",
      "4     1.046     6031.0      15.509  1561.195104\n"
     ]
    }
   ],
   "source": [
    "import numpy as np\n",
    "\n",
    "R_sun_cm = 6.957e10\n",
    "L_sun = 3.828e33\n",
    "sigma = 5.670374419e-5\n",
    "\n",
    "R_star_cm = kepler_object['koi_srad'] * R_sun_cm\n",
    "T_star = kepler_object['koi_steff']\n",
    "L_star = 4 * np.pi * (R_star_cm ** 2) * sigma * (T_star ** 4)\n",
    "L_star_solar = L_star / L_sun\n",
    "M_star = 4.83 - 2.5 * np.log10(L_star_solar)\n",
    "m_star = kepler_object['koi_kepmag']\n",
    "kepler_object['distance'] = 10 ** ((m_star - M_star + 5) / 5)\n",
    "\n",
    "print(kepler_object[['koi_srad', 'koi_steff', 'koi_kepmag', 'distance']].head())\n"
   ]
  },
  {
   "cell_type": "code",
   "execution_count": 26,
   "id": "217da704",
   "metadata": {},
   "outputs": [
    {
     "name": "stdout",
     "output_type": "stream",
     "text": [
      "['kepid', 'kepoi_name', 'koi_disposition', 'koi_pdisposition', 'koi_score', 'koi_fpflag_nt', 'koi_fpflag_ss', 'koi_fpflag_co', 'koi_fpflag_ec', 'koi_period', 'koi_time0bk', 'koi_impact', 'koi_duration', 'koi_depth', 'koi_prad', 'koi_teq', 'koi_insol', 'koi_model_snr', 'koi_tce_plnt_num', 'koi_tce_delivname', 'koi_steff', 'koi_slogg', 'koi_srad', 'ra', 'dec', 'koi_kepmag', 'stellar_mass', 'distance']\n"
     ]
    }
   ],
   "source": [
    "print(kepler_object.columns.tolist())"
   ]
  },
  {
   "cell_type": "code",
   "execution_count": 27,
   "id": "fcc0d820",
   "metadata": {},
   "outputs": [],
   "source": [
    "kepler_object.to_csv(\"KOI_cleaned.csv\",index=False)"
   ]
  }
 ],
 "metadata": {
  "kernelspec": {
   "display_name": "venv (3.13.7)",
   "language": "python",
   "name": "python3"
  },
  "language_info": {
   "codemirror_mode": {
    "name": "ipython",
    "version": 3
   },
   "file_extension": ".py",
   "mimetype": "text/x-python",
   "name": "python",
   "nbconvert_exporter": "python",
   "pygments_lexer": "ipython3",
   "version": "3.13.7"
  }
 },
 "nbformat": 4,
 "nbformat_minor": 5
}
