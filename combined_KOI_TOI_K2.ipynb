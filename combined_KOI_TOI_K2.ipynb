{
 "cells": [
  {
   "cell_type": "code",
   "execution_count": 1,
   "id": "56946f00",
   "metadata": {},
   "outputs": [],
   "source": [
    "import pandas as pd \n",
    "import numpy as np\n",
    "import seaborn as sb\n",
    "\n",
    "kepler = pd.read_csv(\"KOI_cleaned.csv\")\n",
    "tess = pd.read_csv(\"TOI_cleaned.csv\")\n",
    "k2 = pd.read_csv(\"K2_cleaned.csv\")"
   ]
  },
  {
   "cell_type": "code",
   "execution_count": 2,
   "id": "a8daf3e0",
   "metadata": {},
   "outputs": [
    {
     "name": "stdout",
     "output_type": "stream",
     "text": [
      "['kepid', 'kepoi_name', 'koi_disposition', 'koi_pdisposition', 'koi_score', 'koi_fpflag_nt', 'koi_fpflag_ss', 'koi_fpflag_co', 'koi_fpflag_ec', 'koi_period', 'koi_time0bk', 'koi_impact', 'koi_duration', 'koi_depth', 'koi_prad', 'koi_teq', 'koi_insol', 'koi_model_snr', 'koi_tce_plnt_num', 'koi_tce_delivname', 'koi_steff', 'koi_slogg', 'koi_srad', 'ra', 'dec', 'koi_kepmag', 'stellar_mass', 'distance']\n",
      "['toi', 'tid', 'tfopwg_disp', 'rastr', 'ra', 'decstr', 'dec', 'st_pmra', 'st_pmdec', 'pl_tranmid', 'pl_orbper', 'pl_trandurh', 'pl_trandep', 'pl_rade', 'pl_insol', 'pl_eqt', 'st_tmag', 'st_dist', 'st_teff', 'st_logg', 'st_rad', 'toi_created', 'rowupdate', 'stellar_mass']\n",
      "['pl_name', 'hostname', 'default_flag', 'disposition', 'disp_refname', 'pl_orbper', 'pl_rade', 'pl_radj', 'ttv_flag', 'st_teff', 'st_rad', 'st_mass', 'st_logg', 'sy_dist', 'sy_vmag', 'sy_kmag', 'sy_gaiamag']\n"
     ]
    }
   ],
   "source": [
    "print(kepler.columns.tolist())\n",
    "print(tess.columns.tolist())\n",
    "print(k2.columns.tolist())"
   ]
  },
  {
   "cell_type": "code",
   "execution_count": 3,
   "id": "86235b8b",
   "metadata": {},
   "outputs": [],
   "source": [
    "kepler = kepler.rename(columns={\n",
    "    \"koi_period\": \"period\",\n",
    "    \"koi_prad\": \"radius\",\n",
    "    \"koi_steff\": \"stellar_teff\",\n",
    "    \"koi_slogg\": \"stellar_logg\",\n",
    "    \"koi_srad\": \"stellar_rad\",\n",
    "    \"koi_kepmag\": \"stellar_mag\",\n",
    "    \"koi_disposition\": \"disposition\",\n",
    "    \"koi_insol\": \"insolation\",\n",
    "    \"koi_teq\": \"equilibrium_temp\"\n",
    "})\n",
    "\n",
    "kepler = kepler[[\"period\",\"radius\",\"stellar_teff\",\"stellar_logg\",\"stellar_rad\",\"stellar_mag\",\"disposition\",\"insolation\",\"equilibrium_temp\",\"stellar_mass\",\"distance\"]]\n"
   ]
  },
  {
   "cell_type": "code",
   "execution_count": 4,
   "id": "51a29f8c",
   "metadata": {},
   "outputs": [],
   "source": [
    "tess = tess.rename(columns={\n",
    "    \"pl_orbper\": \"period\",\n",
    "    \"pl_rade\": \"radius\",\n",
    "    \"st_teff\": \"stellar_teff\",\n",
    "    \"st_logg\": \"stellar_logg\",\n",
    "    \"st_rad\": \"stellar_rad\",\n",
    "    \"st_tmag\": \"stellar_mag\",\n",
    "    \"st_dist\": \"distance\",\n",
    "    \"pl_insol\": \"insolation\",\n",
    "    \"pl_eqt\": \"equilibrium_temp\",\n",
    "    \"tfopwg_disp\": \"disposition\"\n",
    "})\n",
    "\n",
    "tess = tess[[\"period\",\"radius\",\"stellar_teff\",\"stellar_logg\",\"stellar_rad\",\"stellar_mag\",\"disposition\",\n",
    "    \"insolation\",\"equilibrium_temp\",\"distance\",\"stellar_mass\"]]\n"
   ]
  },
  {
   "cell_type": "code",
   "execution_count": 5,
   "id": "bb1a6ec6",
   "metadata": {},
   "outputs": [],
   "source": [
    "k2 = k2.rename(columns={\n",
    "    \"pl_orbper\": \"period\",\n",
    "    \"pl_rade\": \"radius\",\n",
    "    \"st_teff\": \"stellar_teff\",\n",
    "    \"st_logg\": \"stellar_logg\",\n",
    "    \"st_rad\": \"stellar_rad\",\n",
    "    \"sy_vmag\": \"stellar_mag\",     \n",
    "    \"disposition\": \"disposition\", \n",
    "    \"st_mass\": \"stellar_mass\",    \n",
    "    \"sy_dist\": \"distance\"         \n",
    "})\n",
    "\n",
    "k2 = k2[[\n",
    "    \"period\", \"radius\", \"stellar_teff\", \"stellar_logg\", \"stellar_rad\",\n",
    "    \"stellar_mag\", \"disposition\", \"stellar_mass\", \"distance\"\n",
    "]]\n"
   ]
  },
  {
   "cell_type": "code",
   "execution_count": 6,
   "id": "f42749b6",
   "metadata": {},
   "outputs": [
    {
     "name": "stdout",
     "output_type": "stream",
     "text": [
      "(21223, 11)\n"
     ]
    }
   ],
   "source": [
    "combined_dataset = pd.concat([kepler,tess,k2], ignore_index=True)\n",
    "\n",
    "print(combined_dataset.shape)"
   ]
  },
  {
   "cell_type": "code",
   "execution_count": 7,
   "id": "7425ffe5",
   "metadata": {},
   "outputs": [
    {
     "name": "stdout",
     "output_type": "stream",
     "text": [
      "period                 0\n",
      "radius                 0\n",
      "stellar_teff           0\n",
      "stellar_logg           0\n",
      "stellar_rad            0\n",
      "stellar_mag            0\n",
      "disposition            0\n",
      "insolation          3992\n",
      "equilibrium_temp    3992\n",
      "stellar_mass           0\n",
      "distance               0\n",
      "dtype: int64\n"
     ]
    }
   ],
   "source": [
    "print(combined_dataset.isnull().sum())"
   ]
  },
  {
   "cell_type": "code",
   "execution_count": 8,
   "id": "81868f9a",
   "metadata": {},
   "outputs": [
    {
     "name": "stdout",
     "output_type": "stream",
     "text": [
      "period              0\n",
      "radius              0\n",
      "stellar_teff        0\n",
      "stellar_logg        0\n",
      "stellar_rad         0\n",
      "stellar_mag         0\n",
      "disposition         0\n",
      "insolation          0\n",
      "equilibrium_temp    0\n",
      "stellar_mass        0\n",
      "distance            0\n",
      "dtype: int64\n"
     ]
    },
    {
     "name": "stderr",
     "output_type": "stream",
     "text": [
      "C:\\Users\\lenovo\\AppData\\Local\\Temp\\ipykernel_24340\\2982030449.py:3: FutureWarning: A value is trying to be set on a copy of a DataFrame or Series through chained assignment using an inplace method.\n",
      "The behavior will change in pandas 3.0. This inplace method will never work because the intermediate object on which we are setting values always behaves as a copy.\n",
      "\n",
      "For example, when doing 'df[col].method(value, inplace=True)', try using 'df.method({col: value}, inplace=True)' or df[col] = df[col].method(value) instead, to perform the operation inplace on the original object.\n",
      "\n",
      "\n",
      "  combined_dataset[col].fillna(combined_dataset[col].median(),inplace=True)\n",
      "C:\\Users\\lenovo\\AppData\\Local\\Temp\\ipykernel_24340\\2982030449.py:3: FutureWarning: A value is trying to be set on a copy of a DataFrame or Series through chained assignment using an inplace method.\n",
      "The behavior will change in pandas 3.0. This inplace method will never work because the intermediate object on which we are setting values always behaves as a copy.\n",
      "\n",
      "For example, when doing 'df[col].method(value, inplace=True)', try using 'df.method({col: value}, inplace=True)' or df[col] = df[col].method(value) instead, to perform the operation inplace on the original object.\n",
      "\n",
      "\n",
      "  combined_dataset[col].fillna(combined_dataset[col].median(),inplace=True)\n"
     ]
    }
   ],
   "source": [
    "missing_cols = [\"insolation\",\"equilibrium_temp\"]\n",
    "for col in missing_cols:\n",
    "    combined_dataset[col].fillna(combined_dataset[col].median(),inplace=True)\n",
    "print(combined_dataset.isnull().sum())"
   ]
  },
  {
   "cell_type": "code",
   "execution_count": 9,
   "id": "69164f26",
   "metadata": {},
   "outputs": [
    {
     "name": "stdout",
     "output_type": "stream",
     "text": [
      "['period', 'radius', 'stellar_teff', 'stellar_logg', 'stellar_rad', 'stellar_mag', 'disposition', 'insolation', 'equilibrium_temp', 'stellar_mass', 'distance']\n"
     ]
    }
   ],
   "source": [
    "print(combined_dataset.columns.tolist())"
   ]
  },
  {
   "cell_type": "code",
   "execution_count": 10,
   "id": "87f6372f",
   "metadata": {},
   "outputs": [],
   "source": [
    "combined_dataset.to_csv(\"Combined Dataset.csv\",index=False)"
   ]
  }
 ],
 "metadata": {
  "kernelspec": {
   "display_name": "venv (3.13.7)",
   "language": "python",
   "name": "python3"
  },
  "language_info": {
   "codemirror_mode": {
    "name": "ipython",
    "version": 3
   },
   "file_extension": ".py",
   "mimetype": "text/x-python",
   "name": "python",
   "nbconvert_exporter": "python",
   "pygments_lexer": "ipython3",
   "version": "3.13.7"
  }
 },
 "nbformat": 4,
 "nbformat_minor": 5
}
